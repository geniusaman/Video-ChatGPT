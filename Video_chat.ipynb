{
  "nbformat": 4,
  "nbformat_minor": 0,
  "metadata": {
    "colab": {
      "private_outputs": true,
      "provenance": [],
      "gpuType": "A100",
      "machine_shape": "hm"
    },
    "kernelspec": {
      "name": "python3",
      "display_name": "Python 3"
    },
    "language_info": {
      "name": "python"
    },
    "accelerator": "GPU"
  },
  "cells": [
    {
      "cell_type": "code",
      "execution_count": null,
      "metadata": {
        "id": "jfa9dCwQNEnW"
      },
      "outputs": [],
      "source": [
        "!git clone https://github.com/geniusaman/Video-ChatGPT.git\n",
        "%cd /content/Ask-Anything/video_chat_with_StableLM"
      ]
    },
    {
      "cell_type": "code",
      "source": [
        "# Install dependencies:\n",
        "!pip install -r requirements.txt\n",
        "!pip install https://github.com/explosion/spacy-models/releases/download/en_core_web_sm-3.0.0/en_core_web_sm-3.0.0.tar.gz\n",
        "!python -m pip install 'git+https://github.com/facebookresearch/detectron2.git'"
      ],
      "metadata": {
        "id": "R0y1vo-bNKp2"
      },
      "execution_count": null,
      "outputs": []
    },
    {
      "cell_type": "code",
      "source": [
        "#Requirements-2\n",
        "!pip install timm\n",
        "!pip install fairscale\n",
        "!pip install decord\n",
        "!pip install gradio\n",
        "!pip install lvis\n",
        "!pip install boto3"
      ],
      "metadata": {
        "id": "ZPzWJklRcQTA"
      },
      "execution_count": null,
      "outputs": []
    },
    {
      "cell_type": "code",
      "source": [
        "%mkdir pretrained_models\n",
        "%cd pretrained_models\n",
        "# Download the checkpoints\n",
        "!wget https://huggingface.co/spaces/xinyu1205/Tag2Text/resolve/main/tag2text_swin_14m.pth ./pretrained_models/tag2text_swin_14m.pth\n",
        "!wget https://datarelease.blob.core.windows.net/grit/models/grit_b_densecap_objectdet.pth ./pretrained_models/grit_b_densecap_objectdet.pth\n",
        "%cd ..\n",
        "%ls"
      ],
      "metadata": {
        "id": "ZNOJOHZ3pAyw"
      },
      "execution_count": null,
      "outputs": []
    },
    {
      "cell_type": "code",
      "source": [
        "# Run the VideoChat gradio demo.\n",
        "!python app.py"
      ],
      "metadata": {
        "id": "6qXOOPeXOSmr"
      },
      "execution_count": null,
      "outputs": []
    }
  ]
}